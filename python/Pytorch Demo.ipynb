{
 "cells": [
  {
   "cell_type": "code",
   "execution_count": 1,
   "metadata": {},
   "outputs": [],
   "source": [
    "import torch\n",
    "import numpy as np"
   ]
  },
  {
   "cell_type": "code",
   "execution_count": 2,
   "metadata": {},
   "outputs": [],
   "source": [
    "from sklearn.datasets import make_blobs"
   ]
  },
  {
   "cell_type": "code",
   "execution_count": 3,
   "metadata": {},
   "outputs": [],
   "source": [
    "X, y = make_blobs(n_samples=10000, n_features=2)"
   ]
  },
  {
   "cell_type": "code",
   "execution_count": 4,
   "metadata": {},
   "outputs": [
    {
     "name": "stdout",
     "output_type": "stream",
     "text": [
      "Populating the interactive namespace from numpy and matplotlib\n"
     ]
    }
   ],
   "source": [
    "%pylab inline"
   ]
  },
  {
   "cell_type": "code",
   "execution_count": 5,
   "metadata": {},
   "outputs": [
    {
     "data": {
      "text/plain": [
       "<matplotlib.collections.PathCollection at 0x7f1d411914a8>"
      ]
     },
     "execution_count": 5,
     "metadata": {},
     "output_type": "execute_result"
    },
    {
     "data": {
      "image/png": "[encoded data removed]",
      "text/plain": [
       "<Figure size 432x288 with 1 Axes>"
      ]
     },
     "metadata": {
      "needs_background": "light"
     },
     "output_type": "display_data"
    }
   ],
   "source": [
    "import matplotlib.pyplot as plt\n",
    "\n",
    "plt.scatter(X[:, 0], X[:, 1], c=y)"
   ]
  },
  {
   "cell_type": "code",
   "execution_count": 6,
   "metadata": {},
   "outputs": [],
   "source": [
    "from torch.utils.data import Dataset"
   ]
  },
  {
   "cell_type": "code",
   "execution_count": 7,
   "metadata": {},
   "outputs": [],
   "source": [
    "class BlobData(Dataset):\n",
    "    def __init__(self, X, y, trans=None):\n",
    "        self.data = list(zip(X, y))\n",
    "        self.trans = trans\n",
    "        \n",
    "    def __len__(self):\n",
    "        return len(self.data)\n",
    "    \n",
    "    def __getitem__(self, idx):\n",
    "        if self.trans is not None:\n",
    "            return self.trans(self.data[idx])\n",
    "        else:\n",
    "            return self.data[idx]"
   ]
  },
  {
   "cell_type": "code",
   "execution_count": 8,
   "metadata": {},
   "outputs": [],
   "source": [
    "from torchvision import transforms"
   ]
  },
  {
   "cell_type": "code",
   "execution_count": 9,
   "metadata": {},
   "outputs": [],
   "source": [
    "class GaussianNoise(object):\n",
    "    def __init__(self, std=0.1, mean=0.0):\n",
    "        self.mean = mean\n",
    "        self.std = std\n",
    "        \n",
    "    def __call__(self, datum):\n",
    "        x, y = datum[0], datum[1]\n",
    "        return x + (self.std * np.random.randn(2) + self.mean), y"
   ]
  },
  {
   "cell_type": "code",
   "execution_count": 10,
   "metadata": {},
   "outputs": [],
   "source": [
    "class ToTensor(object):\n",
    "    def __init__(self):\n",
    "          pass\n",
    "        \n",
    "    def __call__(self, datum):\n",
    "        x, y = datum[0], datum[1]\n",
    "        t = torch.from_numpy(x).type(torch.FloatTensor) \n",
    "        return t, y"
   ]
  },
  {
   "cell_type": "code",
   "execution_count": 11,
   "metadata": {},
   "outputs": [],
   "source": [
    "my_transform = transforms.Compose([GaussianNoise(), ToTensor()])"
   ]
  },
  {
   "cell_type": "code",
   "execution_count": 12,
   "metadata": {},
   "outputs": [],
   "source": [
    "blob_dataset = BlobData(X, y, trans=my_transform)"
   ]
  },
  {
   "cell_type": "code",
   "execution_count": 13,
   "metadata": {},
   "outputs": [
    {
     "data": {
      "text/plain": [
       "10000"
      ]
     },
     "execution_count": 13,
     "metadata": {},
     "output_type": "execute_result"
    }
   ],
   "source": [
    "len(blob_dataset)"
   ]
  },
  {
   "cell_type": "code",
   "execution_count": 14,
   "metadata": {},
   "outputs": [
    {
     "data": {
      "text/plain": [
       "(tensor([ 7.2354, -7.2486], requires_grad=True), 1)"
      ]
     },
     "execution_count": 14,
     "metadata": {},
     "output_type": "execute_result"
    }
   ],
   "source": [
    "blob_dataset[100]"
   ]
  },
  {
   "cell_type": "code",
   "execution_count": 15,
   "metadata": {},
   "outputs": [],
   "source": [
    "import torch.nn as nn\n",
    "import torch.nn.functional as F"
   ]
  },
  {
   "cell_type": "code",
   "execution_count": 16,
   "metadata": {},
   "outputs": [],
   "source": [
    "class LinearWActivation(nn.Module):\n",
    "    def __init__(self, in_features, out_features, activation='sigmoid'):\n",
    "        super(LinearWActivation, self).__init__()\n",
    "        self.f = nn.Linear(in_features, out_features)\n",
    "        if activation == 'sigmoid':\n",
    "            self.a = nn.Sigmoid()\n",
    "        else:\n",
    "            self.a = nn.ReLU()\n",
    "            \n",
    "    def forward(self, x):\n",
    "        return self.a(self.f(x))\n",
    "\n",
    "class MyFunnyNet(nn.Module):\n",
    "    def __init__(self, layers, n_features, n_classes, activation='sigmoid'):\n",
    "        super(MyFunnyNet, self).__init__()\n",
    "        layers_in = [n_features] + layers \n",
    "        layers_out = layers + [n_classes]\n",
    "        self.f = nn.Sequential(*[\n",
    "            LinearWActivation(in_feats, out_feats, activation=activation)\n",
    "            for in_feats, out_feats in zip(layers_in, layers_out)\n",
    "        ])\n",
    "                \n",
    "    def forward(self, x):\n",
    "        y = self.f(x)\n",
    "        return y"
   ]
  },
  {
   "cell_type": "code",
   "execution_count": 17,
   "metadata": {},
   "outputs": [],
   "source": [
    "import torch.optim as optim\n",
    "\n",
    "EPOCHS = 30\n",
    "BATCH_SZ = 32\n",
    "\n",
    "criterion = nn.CrossEntropyLoss()\n",
    "net = MyFunnyNet([100, 100], X.shape[1], len(set(y)))"
   ]
  },
  {
   "cell_type": "code",
   "execution_count": 18,
   "metadata": {},
   "outputs": [],
   "source": [
    "optimizer = optim.SGD(list(net.parameters()), lr=1e-2)\n"
   ]
  },
  {
   "cell_type": "code",
   "execution_count": 19,
   "metadata": {},
   "outputs": [],
   "source": [
    "from sklearn.model_selection import train_test_split"
   ]
  },
  {
   "cell_type": "code",
   "execution_count": 20,
   "metadata": {},
   "outputs": [],
   "source": [
    "X_train, X_test, y_train, y_test = train_test_split(X, y, test_size=0.33)"
   ]
  },
  {
   "cell_type": "code",
   "execution_count": 21,
   "metadata": {},
   "outputs": [],
   "source": [
    "train_data = BlobData(X_train, y_train, trans=my_transform)\n",
    "test_data = BlobData(X_test, y_test, trans=my_transform)"
   ]
  },
  {
   "cell_type": "code",
   "execution_count": 22,
   "metadata": {},
   "outputs": [],
   "source": [
    "from torch.utils.data import DataLoader"
   ]
  },
  {
   "cell_type": "code",
   "execution_count": 23,
   "metadata": {},
   "outputs": [],
   "source": [
    "train_dl = DataLoader(train_data, batch_size=BATCH_SZ)\n",
    "test_dl = DataLoader(test_data, batch_size=BATCH_SZ)"
   ]
  },
  {
   "cell_type": "code",
   "execution_count": 24,
   "metadata": {
    "scrolled": true
   },
   "outputs": [
    {
     "name": "stdout",
     "output_type": "stream",
     "text": [
      "Epoch: 0 \t Batch: 0 \t Loss 1.1050496101379395\n",
      "Epoch: 0 \t Batch: 100 \t Loss 1.0912319209315988\n",
      "Epoch: 0 \t Batch: 200 \t Loss 1.0853993975701024\n",
      "Epoch: 1 \t Batch: 0 \t Loss 1.0742565393447876\n",
      "Epoch: 1 \t Batch: 100 \t Loss 1.0655937678743117\n",
      "Epoch: 1 \t Batch: 200 \t Loss 1.0592965284983318\n",
      "Epoch: 2 \t Batch: 0 \t Loss 1.0462876558303833\n",
      "Epoch: 2 \t Batch: 100 \t Loss 1.0373207472338535\n",
      "Epoch: 2 \t Batch: 200 \t Loss 1.0296259086523483\n",
      "Epoch: 3 \t Batch: 0 \t Loss 1.0136157274246216\n",
      "Epoch: 3 \t Batch: 100 \t Loss 1.0027397664466706\n",
      "Epoch: 3 \t Batch: 200 \t Loss 0.9932335570677003\n",
      "Epoch: 4 \t Batch: 0 \t Loss 0.9736994504928589\n",
      "Epoch: 4 \t Batch: 100 \t Loss 0.9604842149385131\n",
      "Epoch: 4 \t Batch: 200 \t Loss 0.9492151719420704\n",
      "Epoch: 5 \t Batch: 0 \t Loss 0.9271013736724854\n",
      "Epoch: 5 \t Batch: 100 \t Loss 0.9115854619753243\n",
      "Epoch: 5 \t Batch: 200 \t Loss 0.8993108892322179\n",
      "Epoch: 6 \t Batch: 0 \t Loss 0.8759656548500061\n",
      "Epoch: 6 \t Batch: 100 \t Loss 0.8597459108522623\n",
      "Epoch: 6 \t Batch: 200 \t Loss 0.8476340933818722\n",
      "Epoch: 7 \t Batch: 0 \t Loss 0.8254131078720093\n",
      "Epoch: 7 \t Batch: 100 \t Loss 0.8098198824589795\n",
      "Epoch: 7 \t Batch: 200 \t Loss 0.7988525907791669\n",
      "Epoch: 8 \t Batch: 0 \t Loss 0.7804373502731323\n",
      "Epoch: 8 \t Batch: 100 \t Loss 0.7655479465380753\n",
      "Epoch: 8 \t Batch: 200 \t Loss 0.7561692933538067\n",
      "Epoch: 9 \t Batch: 0 \t Loss 0.7417194843292236\n",
      "Epoch: 9 \t Batch: 100 \t Loss 0.7283268523688363\n",
      "Epoch: 9 \t Batch: 200 \t Loss 0.7206358770232889\n",
      "Epoch: 10 \t Batch: 0 \t Loss 0.7095876932144165\n",
      "Epoch: 10 \t Batch: 100 \t Loss 0.6981357371453012\n",
      "Epoch: 10 \t Batch: 200 \t Loss 0.6919632239721307\n",
      "Epoch: 11 \t Batch: 0 \t Loss 0.6841816902160645\n",
      "Epoch: 11 \t Batch: 100 \t Loss 0.6740923706847842\n",
      "Epoch: 11 \t Batch: 200 \t Loss 0.6691658197350763\n",
      "Epoch: 12 \t Batch: 0 \t Loss 0.6636543273925781\n",
      "Epoch: 12 \t Batch: 100 \t Loss 0.655046019813802\n",
      "Epoch: 12 \t Batch: 200 \t Loss 0.6511142351734105\n",
      "Epoch: 13 \t Batch: 0 \t Loss 0.6484760046005249\n",
      "Epoch: 13 \t Batch: 100 \t Loss 0.6399260346252139\n",
      "Epoch: 13 \t Batch: 200 \t Loss 0.6367658649511005\n",
      "Epoch: 14 \t Batch: 0 \t Loss 0.6353266835212708\n",
      "Epoch: 14 \t Batch: 100 \t Loss 0.6279019282595946\n",
      "Epoch: 14 \t Batch: 200 \t Loss 0.6253434209088188\n",
      "Epoch: 15 \t Batch: 0 \t Loss 0.6252152919769287\n",
      "Epoch: 15 \t Batch: 100 \t Loss 0.6181991295059128\n",
      "Epoch: 15 \t Batch: 200 \t Loss 0.6161048032751131\n",
      "Epoch: 16 \t Batch: 0 \t Loss 0.6164901256561279\n",
      "Epoch: 16 \t Batch: 100 \t Loss 0.6102790773505031\n",
      "Epoch: 16 \t Batch: 200 \t Loss 0.6085530635136277\n",
      "Epoch: 17 \t Batch: 0 \t Loss 0.6098099946975708\n",
      "Epoch: 17 \t Batch: 100 \t Loss 0.6038077149060693\n",
      "Epoch: 17 \t Batch: 200 \t Loss 0.6023614732780267\n",
      "Epoch: 18 \t Batch: 0 \t Loss 0.6039808988571167\n",
      "Epoch: 18 \t Batch: 100 \t Loss 0.5984378769846246\n",
      "Epoch: 18 \t Batch: 200 \t Loss 0.5971999681411098\n",
      "Epoch: 19 \t Batch: 0 \t Loss 0.5992460250854492\n",
      "Epoch: 19 \t Batch: 100 \t Loss 0.593867818317791\n",
      "Epoch: 19 \t Batch: 200 \t Loss 0.5928187652013788\n",
      "Epoch: 20 \t Batch: 0 \t Loss 0.5951368808746338\n",
      "Epoch: 20 \t Batch: 100 \t Loss 0.5900417584003789\n",
      "Epoch: 20 \t Batch: 200 \t Loss 0.5891435481422577\n",
      "Epoch: 21 \t Batch: 0 \t Loss 0.5914766788482666\n",
      "Epoch: 21 \t Batch: 100 \t Loss 0.5867261349564732\n",
      "Epoch: 21 \t Batch: 200 \t Loss 0.585960844559456\n",
      "Epoch: 22 \t Batch: 0 \t Loss 0.5889554023742676\n",
      "Epoch: 22 \t Batch: 100 \t Loss 0.5839473138941397\n",
      "Epoch: 22 \t Batch: 200 \t Loss 0.5832366756538847\n",
      "Epoch: 23 \t Batch: 0 \t Loss 0.5856987237930298\n",
      "Epoch: 23 \t Batch: 100 \t Loss 0.5814635641504042\n",
      "Epoch: 23 \t Batch: 200 \t Loss 0.5808482481472528\n",
      "Epoch: 24 \t Batch: 0 \t Loss 0.5832868814468384\n",
      "Epoch: 24 \t Batch: 100 \t Loss 0.5793179267703896\n",
      "Epoch: 24 \t Batch: 200 \t Loss 0.5787759871032108\n",
      "Epoch: 25 \t Batch: 0 \t Loss 0.5814157128334045\n",
      "Epoch: 25 \t Batch: 100 \t Loss 0.5774194232308039\n",
      "Epoch: 25 \t Batch: 200 \t Loss 0.5769225993559728\n",
      "Epoch: 26 \t Batch: 0 \t Loss 0.579628050327301\n",
      "Epoch: 26 \t Batch: 100 \t Loss 0.5757626135750572\n",
      "Epoch: 26 \t Batch: 200 \t Loss 0.5753221769831074\n",
      "Epoch: 27 \t Batch: 0 \t Loss 0.5780152082443237\n",
      "Epoch: 27 \t Batch: 100 \t Loss 0.5742460577794821\n",
      "Epoch: 27 \t Batch: 200 \t Loss 0.5738395965514491\n",
      "Epoch: 28 \t Batch: 0 \t Loss 0.5767131447792053\n",
      "Epoch: 28 \t Batch: 100 \t Loss 0.5729207343394214\n",
      "Epoch: 28 \t Batch: 200 \t Loss 0.5725429321996015\n",
      "Epoch: 29 \t Batch: 0 \t Loss 0.5748416781425476\n",
      "Epoch: 29 \t Batch: 100 \t Loss 0.5717051424602471\n",
      "Epoch: 29 \t Batch: 200 \t Loss 0.5713635350934309\n"
     ]
    }
   ],
   "source": [
    "net.train()\n",
    "for epoch in range(EPOCHS):\n",
    "    running_average_loss = 0\n",
    "    for i, data in enumerate(train_dl):\n",
    "        X_batch, y_batch = data\n",
    "        optimizer.zero_grad()\n",
    "        out = net(X_batch)\n",
    "        loss = criterion(out, y_batch)\n",
    "        loss.backward()\n",
    "        optimizer.step()\n",
    "        \n",
    "        running_average_loss += loss.detach().item()\n",
    "        if i % 100 == 0:\n",
    "            print(\"Epoch: {} \\t Batch: {} \\t Loss {}\".format(epoch, i, float(running_average_loss) / (i + 1)))"
   ]
  },
  {
   "cell_type": "code",
   "execution_count": 25,
   "metadata": {},
   "outputs": [
    {
     "name": "stdout",
     "output_type": "stream",
     "text": [
      "0.9915865384615384\n"
     ]
    }
   ],
   "source": [
    "net.eval()\n",
    "acc = 0\n",
    "n_samples = 0\n",
    "with torch.no_grad():\n",
    "    for i, data in enumerate(test_dl):\n",
    "        X_batch, y_batch = data\n",
    "        out = net(X_batch)\n",
    "        val, y_pred = out.max(1)\n",
    "        acc += (y_batch == y_pred).sum().detach().item()\n",
    "        n_samples += 32\n",
    "\n",
    "print(acc / n_samples)"
   ]
  },
  {
   "cell_type": "code",
   "execution_count": null,
   "metadata": {},
   "outputs": [],
   "source": []
  },
  {
   "cell_type": "code",
   "execution_count": null,
   "metadata": {},
   "outputs": [],
   "source": []
  }
 ],
 "metadata": {
  "kernelspec": {
   "display_name": "Python 3",
   "language": "python",
   "name": "python3"
  },
  "language_info": {
   "codemirror_mode": {
    "name": "ipython",
    "version": 3
   },
   "file_extension": ".py",
   "mimetype": "text/x-python",
   "name": "python",
   "nbconvert_exporter": "python",
   "pygments_lexer": "ipython3",
   "version": "3.6.4"
  }
 },
 "nbformat": 4,
 "nbformat_minor": 2
}
