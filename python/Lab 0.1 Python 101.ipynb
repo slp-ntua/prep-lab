{
 "cells": [
  {
   "cell_type": "markdown",
   "metadata": {},
   "source": [
    "# Introduction"
   ]
  },
  {
   "cell_type": "markdown",
   "metadata": {},
   "source": [
    "Python is a great general-purpose programming language on its own, but with the help of a few popular libraries (numpy, scipy, matplotlib) it becomes a powerful environment for scientific computing.\n",
    "\n",
    "We expect that many of you will have some experience with Python and numpy; for the rest of you, this section will serve as a quick crash course both on the Python programming language and on the use of Python for scientific computing.\n",
    "\n",
    "Some of you may have previous knowledge in Matlab, in which case we also recommend the numpy for Matlab users page (https://docs.scipy.org/doc/numpy-dev/user/numpy-for-matlab-users.html)."
   ]
  },
  {
   "cell_type": "markdown",
   "metadata": {},
   "source": [
    "In this tutorial, we will cover:\n",
    "\n",
    "* Basic Python: Basic data types (Containers, Lists, Dictionaries, Sets, Tuples), Functions, Classes\n",
    "* Numpy: Arrays, Array indexing, Datatypes, Array math, Broadcasting\n",
    "* Matplotlib: Plotting, Subplots, Images\n",
    "* IPython: Creating notebooks, Typical workflows"
   ]
  },
  {
   "cell_type": "markdown",
   "metadata": {},
   "source": [
    "## Python Basics"
   ]
  },
  {
   "cell_type": "markdown",
   "metadata": {},
   "source": [
    "### Basic data types"
   ]
  },
  {
   "cell_type": "markdown",
   "metadata": {},
   "source": [
    "#### Numbers"
   ]
  },
  {
   "cell_type": "markdown",
   "metadata": {},
   "source": [
    "Integers and floats work as you would expect from other languages:"
   ]
  },
  {
   "cell_type": "code",
   "execution_count": 38,
   "metadata": {},
   "outputs": [
    {
     "name": "stdout",
     "output_type": "stream",
     "text": [
      "3 <class 'int'>\n"
     ]
    }
   ],
   "source": [
    "x = 3\n",
    "print(x, type(x))"
   ]
  },
  {
   "cell_type": "code",
   "execution_count": 39,
   "metadata": {},
   "outputs": [
    {
     "name": "stdout",
     "output_type": "stream",
     "text": [
      "4\n",
      "2\n",
      "6\n",
      "9\n"
     ]
    }
   ],
   "source": [
    "print(x + 1)   # Addition;\n",
    "print(x - 1)   # Subtraction;\n",
    "print(x * 2)   # Multiplication;\n",
    "print(x ** 2)  # Exponentiation;"
   ]
  },
  {
   "cell_type": "code",
   "execution_count": 40,
   "metadata": {},
   "outputs": [
    {
     "name": "stdout",
     "output_type": "stream",
     "text": [
      "1.5\n",
      "1\n",
      "1\n"
     ]
    }
   ],
   "source": [
    "print(x / 2)   # Floating point division\n",
    "print(x // 2)  # Integer division\n",
    "print(x % 2)   # Modulo"
   ]
  },
  {
   "cell_type": "code",
   "execution_count": 41,
   "metadata": {},
   "outputs": [
    {
     "name": "stdout",
     "output_type": "stream",
     "text": [
      "4\n",
      "8\n"
     ]
    }
   ],
   "source": [
    "x += 1    # x = x + 1 = 4\n",
    "print(x)  # Prints 4\n",
    "x *= 2    # x = x * 2 = 8\n",
    "print(x)  # Prints 8"
   ]
  },
  {
   "cell_type": "code",
   "execution_count": 5,
   "metadata": {},
   "outputs": [
    {
     "name": "stdout",
     "output_type": "stream",
     "text": [
      "<class 'float'>\n",
      "2.5 3.5 5.0 6.25\n"
     ]
    }
   ],
   "source": [
    "y = 2.5\n",
    "print(type(y)) # Prints <class 'float'>\n",
    "print(y, y + 1, y * 2, y ** 2) # Prints 2.5 3.5 5.0 6.25"
   ]
  },
  {
   "cell_type": "markdown",
   "metadata": {},
   "source": [
    "#### Booleans"
   ]
  },
  {
   "cell_type": "markdown",
   "metadata": {},
   "source": [
    "Python implements all of the usual operators for Boolean logic, but uses English words rather than symbols (`&&`, `||`, etc.):"
   ]
  },
  {
   "cell_type": "code",
   "execution_count": 6,
   "metadata": {},
   "outputs": [
    {
     "name": "stdout",
     "output_type": "stream",
     "text": [
      "<class 'bool'>\n"
     ]
    }
   ],
   "source": [
    "t, f = True, False\n",
    "print(type(t)) # Prints <class 'bool'>"
   ]
  },
  {
   "cell_type": "code",
   "execution_count": 7,
   "metadata": {},
   "outputs": [
    {
     "name": "stdout",
     "output_type": "stream",
     "text": [
      "False\n",
      "True\n",
      "False\n",
      "True\n"
     ]
    }
   ],
   "source": [
    "print(t and f) # Logical AND;\n",
    "print(t or f)  # Logical OR;\n",
    "print(not t)   # Logical NOT;\n",
    "print(t != f)  # Logical XOR;"
   ]
  },
  {
   "cell_type": "markdown",
   "metadata": {},
   "source": [
    "#### Strings"
   ]
  },
  {
   "cell_type": "code",
   "execution_count": 8,
   "metadata": {},
   "outputs": [],
   "source": [
    "hello = 'hello'   # String literals can use single quotes\n",
    "world = \"world\"   # or double quotes; it does not matter."
   ]
  },
  {
   "cell_type": "code",
   "execution_count": 9,
   "metadata": {},
   "outputs": [
    {
     "name": "stdout",
     "output_type": "stream",
     "text": [
      "hello 5\n"
     ]
    }
   ],
   "source": [
    "print(hello, len(hello))"
   ]
  },
  {
   "cell_type": "code",
   "execution_count": 10,
   "metadata": {},
   "outputs": [
    {
     "name": "stdout",
     "output_type": "stream",
     "text": [
      "hello world\n"
     ]
    }
   ],
   "source": [
    "hw = hello + ' ' + world  # String concatenation\n",
    "print(hw)  # prints \"hello world\""
   ]
  },
  {
   "cell_type": "code",
   "execution_count": 11,
   "metadata": {},
   "outputs": [
    {
     "name": "stdout",
     "output_type": "stream",
     "text": [
      "hello world 12\n"
     ]
    }
   ],
   "source": [
    "hw12 = '{} {} {}'.format(hello, world, 12)  # string formatting\n",
    "print(hw12)  # prints \"hello world 12\""
   ]
  },
  {
   "cell_type": "markdown",
   "metadata": {},
   "source": [
    "String objects have a bunch of useful methods; for example:"
   ]
  },
  {
   "cell_type": "code",
   "execution_count": 43,
   "metadata": {},
   "outputs": [
    {
     "name": "stdout",
     "output_type": "stream",
     "text": [
      "HELLO WORLD\n",
      "hello world\n",
      "He<ell><ell>o Wor<ell>d\n",
      "world\n",
      "['Hello', 'World']\n"
     ]
    }
   ],
   "source": [
    "s = \"Hello World\"\n",
    "print(s.upper())                # Convert a string to uppercase; prints \"HELLO WORLD\"\n",
    "print(s.lower())                # Convert a string to uppercase; prints \"hello world\"\n",
    "print(s.replace('l', '<ell>'))  # Replace all instances of one substring with another;\n",
    "                                # prints \"He<ell><ell>o Wor<ell>d\"\n",
    "print('  world\\n \\t'.strip())   # Strip leading and trailing whitespace; prints \"world\"\n",
    "print(s.split(' '))             # Splits the string into a list of tokens on ' '. prints ['Hello', 'World']"
   ]
  },
  {
   "cell_type": "markdown",
   "metadata": {},
   "source": [
    "You can find a list of all string methods in the [documentation](https://docs.python.org/2/library/stdtypes.html#string-methods)."
   ]
  },
  {
   "cell_type": "markdown",
   "metadata": {},
   "source": [
    "### Containers"
   ]
  },
  {
   "cell_type": "markdown",
   "metadata": {},
   "source": [
    "Python includes several built-in container types: lists, dictionaries, sets, and tuples."
   ]
  },
  {
   "cell_type": "markdown",
   "metadata": {},
   "source": [
    "#### Lists"
   ]
  },
  {
   "cell_type": "markdown",
   "metadata": {},
   "source": [
    "A list is the Python equivalent of an array, but is resizeable and can contain elements of different types:"
   ]
  },
  {
   "cell_type": "code",
   "execution_count": 46,
   "metadata": {},
   "outputs": [
    {
     "name": "stdout",
     "output_type": "stream",
     "text": [
      "[3, 1, 2]\n",
      "3\n"
     ]
    }
   ],
   "source": [
    "xs = [3, 1, 2]   # Create a list\n",
    "print(xs)\n",
    "print(xs[0])     # Indexing starts from zero. prints 3"
   ]
  },
  {
   "cell_type": "code",
   "execution_count": 47,
   "metadata": {},
   "outputs": [
    {
     "name": "stdout",
     "output_type": "stream",
     "text": [
      "[3, 1, 'foo']\n"
     ]
    }
   ],
   "source": [
    "xs[2] = 'foo'    # Lists can contain elements of different types\n",
    "print(xs)\n",
    "\n",
    "# DON'T DO THIS"
   ]
  },
  {
   "cell_type": "code",
   "execution_count": 48,
   "metadata": {},
   "outputs": [
    {
     "name": "stdout",
     "output_type": "stream",
     "text": [
      "[3, 1, 'foo', 'bar']\n"
     ]
    }
   ],
   "source": [
    "xs.append('bar') # Add a new element to the end of the list\n",
    "print(xs)  "
   ]
  },
  {
   "cell_type": "markdown",
   "metadata": {},
   "source": [
    "zip takes 2 lists and returns a list of tuples containing elements of both lists. It's useful for iterating 2 lists simultaneously"
   ]
  },
  {
   "cell_type": "code",
   "execution_count": 49,
   "metadata": {},
   "outputs": [
    {
     "name": "stdout",
     "output_type": "stream",
     "text": [
      "[(1, 'a'), (2, 'b'), (3, 'c')]\n",
      "[('a', 1), ('b', 2), ('c', 3)]\n"
     ]
    }
   ],
   "source": [
    "x = [1, 2, 3]\n",
    "y = ['a', 'b', 'c']\n",
    "\n",
    "print(list(zip(x, y)))  # prints [(1, 'a'), (2, 'b'), (3, 'c')]\n",
    "print(list(zip(y, x)))  # prints [('a', 1), ('b', 2), ('c', 3)]"
   ]
  },
  {
   "cell_type": "markdown",
   "metadata": {},
   "source": [
    "As usual, you can find all the details about lists in the [documentation](https://docs.python.org/2/tutorial/datastructures.html#more-on-lists)."
   ]
  },
  {
   "cell_type": "markdown",
   "metadata": {},
   "source": [
    "#### Slicing"
   ]
  },
  {
   "cell_type": "markdown",
   "metadata": {},
   "source": [
    "In addition to accessing list elements one at a time, Python provides concise syntax to access sublists; this is known as slicing:"
   ]
  },
  {
   "cell_type": "code",
   "execution_count": 50,
   "metadata": {},
   "outputs": [
    {
     "name": "stdout",
     "output_type": "stream",
     "text": [
      "[3, 4, 5]\n",
      "[4, 5, 6]\n",
      "[1, 2, 3, 4]\n",
      "6\n",
      "[3, 4]\n",
      "[2, 4]\n",
      "[6, 5, 4, 3, 2, 1]\n"
     ]
    }
   ],
   "source": [
    "xs = [1, 2, 3, 4, 5, 6]\n",
    "# Take slices of lists\n",
    "# Last index is not inclusive\n",
    "print(xs[2:5])     # prints [3, 4, 5]\n",
    "\n",
    "# Slice to the end\n",
    "# If last index is not specified slices to the last element\n",
    "print(xs[3:])      # prints [4, 5, 6]\n",
    "\n",
    "# Slice from the beginning\n",
    "# If first index is not specified slices from first element\n",
    "print(xs[:4])      # prints [1, 2, 3, 4]\n",
    "\n",
    "# Negative indexing\n",
    "# Last element is -1\n",
    "print(xs[-1])      # prints 6\n",
    "\n",
    "# Second to last element is -2\n",
    "# Remember last index is not inclusive\n",
    "print(xs[2:-2])    #prints [3, 4]\n",
    "\n",
    "# Step slices\n",
    "# Take a slice of step 2 from second element to the second to last not inclusive\n",
    "print(xs[1:-2:2])  # prints [2, 4]\n",
    "\n",
    "# Reverse list\n",
    "print(xs[::-1])    # prints [6, 5, 4, 3, 2, 1]"
   ]
  },
  {
   "cell_type": "markdown",
   "metadata": {},
   "source": [
    "#### Loops"
   ]
  },
  {
   "cell_type": "markdown",
   "metadata": {},
   "source": [
    "You can loop over the elements of a list like this:"
   ]
  },
  {
   "cell_type": "code",
   "execution_count": 18,
   "metadata": {},
   "outputs": [
    {
     "name": "stdout",
     "output_type": "stream",
     "text": [
      "cat\n",
      "dog\n",
      "monkey\n"
     ]
    }
   ],
   "source": [
    "animals = ['cat', 'dog', 'monkey']\n",
    "for animal in animals:\n",
    "    print(animal)"
   ]
  },
  {
   "cell_type": "markdown",
   "metadata": {},
   "source": [
    "If you want access to the index of each element within the body of a loop, use the built-in `enumerate` function:"
   ]
  },
  {
   "cell_type": "code",
   "execution_count": 19,
   "metadata": {},
   "outputs": [
    {
     "name": "stdout",
     "output_type": "stream",
     "text": [
      "#0: cat\n",
      "#1: dog\n",
      "#2: monkey\n"
     ]
    }
   ],
   "source": [
    "animals = ['cat', 'dog', 'monkey']\n",
    "for idx, animal in enumerate(animals):\n",
    "    print('#{}: {}'.format(idx, animal))"
   ]
  },
  {
   "cell_type": "markdown",
   "metadata": {},
   "source": [
    "#### List comprehensions:"
   ]
  },
  {
   "cell_type": "markdown",
   "metadata": {},
   "source": [
    "A frequent programming operation is transforming all elements in a list. As a simple example, consider the following code that computes square numbers:"
   ]
  },
  {
   "cell_type": "code",
   "execution_count": 20,
   "metadata": {},
   "outputs": [
    {
     "name": "stdout",
     "output_type": "stream",
     "text": [
      "[1, 4, 9, 16, 25, 36]\n"
     ]
    }
   ],
   "source": [
    "xs = [1, 2, 3, 4, 5, 6]\n",
    "squares = []\n",
    "for x in xs:\n",
    "    squares.append(x ** 2)\n",
    "print(squares)  # prints [1, 4, 9, 16, 25, 36]"
   ]
  },
  {
   "cell_type": "markdown",
   "metadata": {},
   "source": [
    "A more concise way to do this is using a list comprehension"
   ]
  },
  {
   "cell_type": "code",
   "execution_count": 21,
   "metadata": {},
   "outputs": [
    {
     "name": "stdout",
     "output_type": "stream",
     "text": [
      "[1, 4, 9, 16, 25, 36]\n"
     ]
    }
   ],
   "source": [
    "squares = [i ** 2 for i in xs]  \n",
    "print(squares)  # prints [1, 4, 9, 16, 25, 36]"
   ]
  },
  {
   "cell_type": "markdown",
   "metadata": {},
   "source": [
    "List comprehensions can also contain conditions:"
   ]
  },
  {
   "cell_type": "code",
   "execution_count": 51,
   "metadata": {},
   "outputs": [
    {
     "name": "stdout",
     "output_type": "stream",
     "text": [
      "[4, 16, 36]\n"
     ]
    }
   ],
   "source": [
    "even_squares = [x ** 2 for x in xs if x % 2 == 0]\n",
    "print(even_squares)  # prints [4, 16, 36]"
   ]
  },
  {
   "cell_type": "code",
   "execution_count": 54,
   "metadata": {},
   "outputs": [
    {
     "name": "stdout",
     "output_type": "stream",
     "text": [
      "0 cat\n",
      "1 dog\n",
      "2 monkey\n"
     ]
    }
   ],
   "source": [
    "for idx, animal in enumerate(animals):\n",
    "   print(idx, animal)"
   ]
  },
  {
   "cell_type": "markdown",
   "metadata": {},
   "source": [
    "#### Dictionaries"
   ]
  },
  {
   "cell_type": "markdown",
   "metadata": {},
   "source": [
    "A dictionary stores (key, value) pairs, similar to a `Map` in Java or an object in Javascript. \n",
    "Good generic type for storing data. \n",
    "Lookup is fast.\n",
    "\n",
    "You can use it like this:"
   ]
  },
  {
   "cell_type": "code",
   "execution_count": 55,
   "metadata": {},
   "outputs": [
    {
     "name": "stdout",
     "output_type": "stream",
     "text": [
      "World\n"
     ]
    }
   ],
   "source": [
    "x = {}\n",
    "\n",
    "x['Hello'] = 'World'\n",
    "\n",
    "print(x['Hello'])  # Prints World"
   ]
  },
  {
   "cell_type": "code",
   "execution_count": 56,
   "metadata": {},
   "outputs": [
    {
     "data": {
      "text/plain": [
       "{'Hello': 'World'}"
      ]
     },
     "execution_count": 56,
     "metadata": {},
     "output_type": "execute_result"
    }
   ],
   "source": [
    "x"
   ]
  },
  {
   "cell_type": "markdown",
   "metadata": {},
   "source": [
    "You can access the keys and the values in the dictionary like this"
   ]
  },
  {
   "cell_type": "code",
   "execution_count": 57,
   "metadata": {},
   "outputs": [
    {
     "name": "stdout",
     "output_type": "stream",
     "text": [
      "dict_keys(['0', '1', '2', '3', '4', '5', '6', '7', '8', '9', '10'])\n",
      "dict_values(['zero', 'one', 'two', 'three', 'four', 'five', 'six', 'seven', 'eight', 'nine', 'ten'])\n"
     ]
    }
   ],
   "source": [
    "y = {\n",
    "    '0': 'zero', \n",
    "    '1': 'one',\n",
    "    '2': 'two',\n",
    "    '3': 'three',\n",
    "    '4': 'four',\n",
    "    '5': 'five',\n",
    "    '6': 'six',\n",
    "    '7': 'seven',\n",
    "    '8': 'eight',\n",
    "    '9': 'nine',\n",
    "    '10': 'ten'\n",
    "}\n",
    "\n",
    "# The keys (indexes) as a list\n",
    "print(y.keys())  # prints ['0', '1', '2', '3', '4', '5', '6', '7', '8', '9', '10']\n",
    "\n",
    "# The values as a list\n",
    "print(y.values())  # prints ['zero', 'one', 'two', 'three', 'four', 'five', 'six', 'seven', 'eight', 'nine', 'ten']"
   ]
  },
  {
   "cell_type": "markdown",
   "metadata": {},
   "source": [
    "Check if an element is in y keys"
   ]
  },
  {
   "cell_type": "code",
   "execution_count": 25,
   "metadata": {},
   "outputs": [
    {
     "name": "stdout",
     "output_type": "stream",
     "text": [
      "True\n",
      "False\n"
     ]
    }
   ],
   "source": [
    "print('0' in y)\n",
    "print(0 in y)"
   ]
  },
  {
   "cell_type": "markdown",
   "metadata": {},
   "source": [
    "Iterate elements in dictionary"
   ]
  },
  {
   "cell_type": "code",
   "execution_count": 26,
   "metadata": {},
   "outputs": [
    {
     "name": "stdout",
     "output_type": "stream",
     "text": [
      "Key: 0\t Value: zero\n",
      "Key: 1\t Value: one\n",
      "Key: 2\t Value: two\n",
      "Key: 3\t Value: three\n",
      "Key: 4\t Value: four\n",
      "Key: 5\t Value: five\n",
      "Key: 6\t Value: six\n",
      "Key: 7\t Value: seven\n",
      "Key: 8\t Value: eight\n",
      "Key: 9\t Value: nine\n",
      "Key: 10\t Value: ten\n"
     ]
    }
   ],
   "source": [
    "# PRO TIP: You can't assume the elements will be in order\n",
    "# If you need ordered elements use collections.OrderedDict (or lists)\n",
    "for k, v in y.items():\n",
    "    print(\"Key: {}\\t Value: {}\".format(k, v))"
   ]
  },
  {
   "cell_type": "markdown",
   "metadata": {},
   "source": [
    "Dictionary comprehensions: These are similar to list comprehensions, and allow you to easily construct/transform dictionaries. For example:"
   ]
  },
  {
   "cell_type": "code",
   "execution_count": 27,
   "metadata": {},
   "outputs": [
    {
     "name": "stdout",
     "output_type": "stream",
     "text": [
      "{'0': 'ZERO',\n",
      " '1': 'ONE',\n",
      " '10': 'TEN',\n",
      " '2': 'TWO',\n",
      " '3': 'THREE',\n",
      " '4': 'FOUR',\n",
      " '5': 'FIVE',\n",
      " '6': 'SIX',\n",
      " '7': 'SEVEN',\n",
      " '8': 'EIGHT',\n",
      " '9': 'NINE'}\n"
     ]
    }
   ],
   "source": [
    "import pprint  # for pretty printing\n",
    "z =  {k: v.upper() for k, v in y.items()}\n",
    "pprint.pprint(z)"
   ]
  },
  {
   "cell_type": "markdown",
   "metadata": {},
   "source": [
    "### Functions"
   ]
  },
  {
   "cell_type": "markdown",
   "metadata": {},
   "source": [
    "Functions are defined using the def keyword.\n",
    "\n",
    "\n",
    "A typical function declaration is def f(p1, p2, p3 ..., k1=v1, k2=v2, ...)\n",
    "where p1, p2 ... are positional (required) arguments \n",
    "and k1, k2 ... are keyword (optional) arguments with default values v1, v2, ..."
   ]
  },
  {
   "cell_type": "code",
   "execution_count": 59,
   "metadata": {},
   "outputs": [
    {
     "name": "stdout",
     "output_type": "stream",
     "text": [
      "[3, 4, 5]\n",
      "[11, 12, 13]\n"
     ]
    }
   ],
   "source": [
    "def add_num_to_list(xs, num=2):\n",
    "    return [x + num for x in xs]\n",
    "\n",
    "print(add_num_to_list([1, 2, 3]))\n",
    "print(add_num_to_list([1, 2, 3], num=10))"
   ]
  },
  {
   "cell_type": "code",
   "execution_count": 60,
   "metadata": {},
   "outputs": [
    {
     "name": "stdout",
     "output_type": "stream",
     "text": [
      "34\n"
     ]
    }
   ],
   "source": [
    "def fibonacci(n):\n",
    "    f0, f1 = 0, 1\n",
    "    for _ in range(n):\n",
    "        f0, f1 = f1, f0 + f1\n",
    "    return f0\n",
    "\n",
    "print(fibonacci(9))"
   ]
  },
  {
   "cell_type": "code",
   "execution_count": 30,
   "metadata": {},
   "outputs": [
    {
     "name": "stdout",
     "output_type": "stream",
     "text": [
      "120\n"
     ]
    }
   ],
   "source": [
    "def factorial(n):\n",
    "    res = 1\n",
    "    if n == 0 or n == 1:\n",
    "        return res\n",
    "    else:\n",
    "        for i in range(2, n + 1):\n",
    "            res *= i\n",
    "        return res\n",
    "\n",
    "print(factorial(5))"
   ]
  },
  {
   "cell_type": "markdown",
   "metadata": {},
   "source": [
    "### Classes"
   ]
  },
  {
   "cell_type": "markdown",
   "metadata": {},
   "source": [
    "The syntax for defining classes in Python is straightforward:"
   ]
  },
  {
   "cell_type": "code",
   "execution_count": 61,
   "metadata": {},
   "outputs": [
    {
     "name": "stdout",
     "output_type": "stream",
     "text": [
      "Hello, Fred\n",
      "HELLO, FRED\n"
     ]
    }
   ],
   "source": [
    "class Greeter(object):\n",
    "\n",
    "    # Constructor\n",
    "    def __init__(self, name):\n",
    "        self.name = name  # Create an instance variable\n",
    "\n",
    "    # Instance method\n",
    "    def greet(self, loud=False):\n",
    "        s = ('Hello, {}'.format(self.name))\n",
    "        if loud:\n",
    "            s = s.upper()\n",
    "        print(s)\n",
    "\n",
    "g = Greeter('Fred')  # Construct an instance of the Greeter class\n",
    "g.greet()            # Call an instance method; prints \"Hello, Fred\"\n",
    "g.greet(loud=True)   # Call an instance method; prints \"HELLO, FRED\""
   ]
  },
  {
   "cell_type": "markdown",
   "metadata": {},
   "source": [
    "Inheritance is also simple. Child class inherits methods and attributes from parent"
   ]
  },
  {
   "cell_type": "code",
   "execution_count": 32,
   "metadata": {},
   "outputs": [
    {
     "name": "stdout",
     "output_type": "stream",
     "text": [
      "HELLO, BOB\n"
     ]
    }
   ],
   "source": [
    "class LoudBob(Greeter):\n",
    "    def __init__(self):\n",
    "        # Call parent constructor\n",
    "        super(LoudBob, self).__init__('Bob')\n",
    "    \n",
    "    # Override parent method. Notice we change the method signature\n",
    "    def greet(self):\n",
    "        # Call parent method\n",
    "        super(LoudBob, self).greet(loud=True)\n",
    "        \n",
    "bob = LoudBob()\n",
    "bob.greet()"
   ]
  },
  {
   "cell_type": "markdown",
   "metadata": {},
   "source": [
    "### Caveats"
   ]
  },
  {
   "cell_type": "markdown",
   "metadata": {},
   "source": [
    "Python is dynamically typed and interpreted. So you can compare apples to oranges"
   ]
  },
  {
   "cell_type": "code",
   "execution_count": 33,
   "metadata": {},
   "outputs": [
    {
     "name": "stdout",
     "output_type": "stream",
     "text": [
      "False\n"
     ]
    }
   ],
   "source": [
    "x = [1, 2, 3]\n",
    "y = 'Hello World'\n",
    "\n",
    "print(x == y)  # evaluates False instead of throwing an exception"
   ]
  },
  {
   "cell_type": "markdown",
   "metadata": {},
   "source": [
    "What is wrong with the following function? Why?"
   ]
  },
  {
   "cell_type": "code",
   "execution_count": 62,
   "metadata": {},
   "outputs": [
    {
     "name": "stdout",
     "output_type": "stream",
     "text": [
      "input is: [1, 8, 27]\n",
      "output is: [1, 8, 27]\n"
     ]
    }
   ],
   "source": [
    "def list_to_pow(xs, n=2):\n",
    "    for i in range(len(xs)):\n",
    "        xs[i] = xs[i] ** n\n",
    "    return xs\n",
    "\n",
    "x = [1, 2, 3]\n",
    "y = list_to_pow(x, n=3)\n",
    "print(\"input is: {}\".format(x))\n",
    "print(\"output is: {}\".format(y))"
   ]
  },
  {
   "cell_type": "code",
   "execution_count": 65,
   "metadata": {},
   "outputs": [
    {
     "name": "stdout",
     "output_type": "stream",
     "text": [
      "input is: [1, 2, 3]\n",
      "output is: [1, 8, 27]\n"
     ]
    }
   ],
   "source": [
    "import copy\n",
    "\n",
    "def list_to_pow(xs, n=2):\n",
    "    xk = copy.deepcopy(xs)\n",
    "    for i in range(len(xk)):\n",
    "        xk[i] = xs[i] ** n\n",
    "    return xk\n",
    "\n",
    "x = [1, 2, 3]\n",
    "y = list_to_pow(x, n=3)\n",
    "print(\"input is: {}\".format(x))\n",
    "print(\"output is: {}\".format(y))"
   ]
  },
  {
   "cell_type": "code",
   "execution_count": 67,
   "metadata": {},
   "outputs": [
    {
     "name": "stdout",
     "output_type": "stream",
     "text": [
      "input is: [1, 2, 3]\n",
      "output is: [1, 8, 27]\n"
     ]
    }
   ],
   "source": [
    "def list_to_pow(xs, n=2):\n",
    "    return [x ** n for x in xs]\n",
    "\n",
    "\n",
    "x = [1, 2, 3]\n",
    "y = list_to_pow(x, n=3)\n",
    "print(\"input is: {}\".format(x))\n",
    "print(\"output is: {}\".format(y))"
   ]
  },
  {
   "cell_type": "code",
   "execution_count": 68,
   "metadata": {},
   "outputs": [
    {
     "name": "stdout",
     "output_type": "stream",
     "text": [
      "input is: [1, 2, 3]\n",
      "output is: [1, 8, 27]\n"
     ]
    }
   ],
   "source": [
    "def list_to_pow(xs, n=2):\n",
    "    x = []\n",
    "    for i in range(len(xs)):\n",
    "      x.append(xs[i] ** n)\n",
    " \n",
    "    return x\n",
    "\n",
    "x = [1, 2, 3]\n",
    "y = list_to_pow(x, n=3)\n",
    "print(\"input is: {}\".format(x))\n",
    "print(\"output is: {}\".format(y))"
   ]
  },
  {
   "cell_type": "markdown",
   "metadata": {},
   "source": [
    "### Exercise 1"
   ]
  },
  {
   "cell_type": "markdown",
   "metadata": {},
   "source": [
    "Fix the previous function."
   ]
  },
  {
   "cell_type": "markdown",
   "metadata": {},
   "source": [
    "Insert code in the cell below:"
   ]
  },
  {
   "cell_type": "code",
   "execution_count": 35,
   "metadata": {},
   "outputs": [],
   "source": [
    "def list_to_pow(xs, n=2):\n",
    "    # Insert your code and delete the following line\n",
    "    raise NotImplementedError"
   ]
  },
  {
   "cell_type": "code",
   "execution_count": 36,
   "metadata": {},
   "outputs": [
    {
     "ename": "NotImplementedError",
     "evalue": "",
     "output_type": "error",
     "traceback": [
      "\u001b[0;31m---------------------------------------------------------------------------\u001b[0m",
      "\u001b[0;31mNotImplementedError\u001b[0m                       Traceback (most recent call last)",
      "\u001b[0;32m/tmp/ipykernel_313710/3261287149.py\u001b[0m in \u001b[0;36m<module>\u001b[0;34m\u001b[0m\n\u001b[1;32m      1\u001b[0m \u001b[0mx\u001b[0m \u001b[0;34m=\u001b[0m \u001b[0;34m[\u001b[0m\u001b[0;36m1\u001b[0m\u001b[0;34m,\u001b[0m \u001b[0;36m2\u001b[0m\u001b[0;34m,\u001b[0m \u001b[0;36m3\u001b[0m\u001b[0;34m]\u001b[0m\u001b[0;34m\u001b[0m\u001b[0;34m\u001b[0m\u001b[0m\n\u001b[0;32m----> 2\u001b[0;31m \u001b[0my\u001b[0m \u001b[0;34m=\u001b[0m \u001b[0mlist_to_pow\u001b[0m\u001b[0;34m(\u001b[0m\u001b[0mx\u001b[0m\u001b[0;34m,\u001b[0m \u001b[0mn\u001b[0m\u001b[0;34m=\u001b[0m\u001b[0;36m3\u001b[0m\u001b[0;34m)\u001b[0m\u001b[0;34m\u001b[0m\u001b[0;34m\u001b[0m\u001b[0m\n\u001b[0m\u001b[1;32m      3\u001b[0m \u001b[0mprint\u001b[0m\u001b[0;34m(\u001b[0m\u001b[0;34m\"input is: {}\"\u001b[0m\u001b[0;34m.\u001b[0m\u001b[0mformat\u001b[0m\u001b[0;34m(\u001b[0m\u001b[0mx\u001b[0m\u001b[0;34m)\u001b[0m\u001b[0;34m)\u001b[0m\u001b[0;34m\u001b[0m\u001b[0;34m\u001b[0m\u001b[0m\n\u001b[1;32m      4\u001b[0m \u001b[0mprint\u001b[0m\u001b[0;34m(\u001b[0m\u001b[0;34m\"output is: {}\"\u001b[0m\u001b[0;34m.\u001b[0m\u001b[0mformat\u001b[0m\u001b[0;34m(\u001b[0m\u001b[0my\u001b[0m\u001b[0;34m)\u001b[0m\u001b[0;34m)\u001b[0m\u001b[0;34m\u001b[0m\u001b[0;34m\u001b[0m\u001b[0m\n",
      "\u001b[0;32m/tmp/ipykernel_313710/3654536885.py\u001b[0m in \u001b[0;36mlist_to_pow\u001b[0;34m(xs, n)\u001b[0m\n\u001b[1;32m      1\u001b[0m \u001b[0;32mdef\u001b[0m \u001b[0mlist_to_pow\u001b[0m\u001b[0;34m(\u001b[0m\u001b[0mxs\u001b[0m\u001b[0;34m,\u001b[0m \u001b[0mn\u001b[0m\u001b[0;34m=\u001b[0m\u001b[0;36m2\u001b[0m\u001b[0;34m)\u001b[0m\u001b[0;34m:\u001b[0m\u001b[0;34m\u001b[0m\u001b[0;34m\u001b[0m\u001b[0m\n\u001b[1;32m      2\u001b[0m     \u001b[0;31m# Insert your code and delete the following line\u001b[0m\u001b[0;34m\u001b[0m\u001b[0;34m\u001b[0m\u001b[0;34m\u001b[0m\u001b[0m\n\u001b[0;32m----> 3\u001b[0;31m     \u001b[0;32mraise\u001b[0m \u001b[0mNotImplementedError\u001b[0m\u001b[0;34m\u001b[0m\u001b[0;34m\u001b[0m\u001b[0m\n\u001b[0m",
      "\u001b[0;31mNotImplementedError\u001b[0m: "
     ]
    }
   ],
   "source": [
    "x = [1, 2, 3]\n",
    "y = list_to_pow(x, n=3)\n",
    "print(\"input is: {}\".format(x))\n",
    "print(\"output is: {}\".format(y))"
   ]
  },
  {
   "cell_type": "markdown",
   "metadata": {},
   "source": [
    "### Exercise 2"
   ]
  },
  {
   "cell_type": "markdown",
   "metadata": {},
   "source": [
    "Write a function that takes two lists of equal length  as input adds them element by element.\n",
    "The result should be a list containing the element-wise sums"
   ]
  },
  {
   "cell_type": "markdown",
   "metadata": {},
   "source": [
    "Insert code in the cell below:"
   ]
  },
  {
   "cell_type": "code",
   "execution_count": 69,
   "metadata": {},
   "outputs": [],
   "source": [
    "def add_lists(xs, ys):\n",
    "    # Assert checks the condition given and throws an Exception if False\n",
    "    assert(len(xs) == len(ys))\n",
    "    raise NotImplementedError"
   ]
  },
  {
   "cell_type": "code",
   "execution_count": 74,
   "metadata": {},
   "outputs": [],
   "source": [
    "def add_lists(xs, ys):\n",
    "    assert len(xs) == len(ys), \"Nope\"\n",
    "    return [x+y for (x, y) in zip(xs, ys)]"
   ]
  },
  {
   "cell_type": "code",
   "execution_count": 75,
   "metadata": {},
   "outputs": [
    {
     "name": "stdout",
     "output_type": "stream",
     "text": [
      "[11, 12, 13]\n"
     ]
    }
   ],
   "source": [
    "z = add_lists([1, 2, 3], [10, 10, 10])\n",
    "print(\"{}\".format(z))"
   ]
  },
  {
   "cell_type": "code",
   "execution_count": 76,
   "metadata": {},
   "outputs": [
    {
     "ename": "AssertionError",
     "evalue": "Nope",
     "output_type": "error",
     "traceback": [
      "\u001b[0;31m---------------------------------------------------------------------------\u001b[0m",
      "\u001b[0;31mAssertionError\u001b[0m                            Traceback (most recent call last)",
      "\u001b[0;32m/tmp/ipykernel_313710/3237884764.py\u001b[0m in \u001b[0;36m<module>\u001b[0;34m\u001b[0m\n\u001b[0;32m----> 1\u001b[0;31m \u001b[0mprint\u001b[0m\u001b[0;34m(\u001b[0m\u001b[0madd_lists\u001b[0m\u001b[0;34m(\u001b[0m\u001b[0;34m[\u001b[0m\u001b[0;36m1\u001b[0m\u001b[0;34m,\u001b[0m \u001b[0;36m2\u001b[0m\u001b[0;34m]\u001b[0m\u001b[0;34m,\u001b[0m \u001b[0;34m[\u001b[0m\u001b[0;36m1\u001b[0m\u001b[0;34m,\u001b[0m \u001b[0;36m2\u001b[0m\u001b[0;34m,\u001b[0m \u001b[0;36m3\u001b[0m\u001b[0;34m]\u001b[0m\u001b[0;34m)\u001b[0m\u001b[0;34m)\u001b[0m  \u001b[0;31m# Should throw AssertionError\u001b[0m\u001b[0;34m\u001b[0m\u001b[0;34m\u001b[0m\u001b[0m\n\u001b[0m",
      "\u001b[0;32m/tmp/ipykernel_313710/3261490353.py\u001b[0m in \u001b[0;36madd_lists\u001b[0;34m(xs, ys)\u001b[0m\n\u001b[1;32m      1\u001b[0m \u001b[0;32mdef\u001b[0m \u001b[0madd_lists\u001b[0m\u001b[0;34m(\u001b[0m\u001b[0mxs\u001b[0m\u001b[0;34m,\u001b[0m \u001b[0mys\u001b[0m\u001b[0;34m)\u001b[0m\u001b[0;34m:\u001b[0m\u001b[0;34m\u001b[0m\u001b[0;34m\u001b[0m\u001b[0m\n\u001b[0;32m----> 2\u001b[0;31m     \u001b[0;32massert\u001b[0m \u001b[0mlen\u001b[0m\u001b[0;34m(\u001b[0m\u001b[0mxs\u001b[0m\u001b[0;34m)\u001b[0m \u001b[0;34m==\u001b[0m \u001b[0mlen\u001b[0m\u001b[0;34m(\u001b[0m\u001b[0mys\u001b[0m\u001b[0;34m)\u001b[0m\u001b[0;34m,\u001b[0m \u001b[0;34m\"Nope\"\u001b[0m\u001b[0;34m\u001b[0m\u001b[0;34m\u001b[0m\u001b[0m\n\u001b[0m\u001b[1;32m      3\u001b[0m     \u001b[0;32mreturn\u001b[0m \u001b[0;34m[\u001b[0m\u001b[0mx\u001b[0m\u001b[0;34m+\u001b[0m\u001b[0my\u001b[0m \u001b[0;32mfor\u001b[0m \u001b[0;34m(\u001b[0m\u001b[0mx\u001b[0m\u001b[0;34m,\u001b[0m \u001b[0my\u001b[0m\u001b[0;34m)\u001b[0m \u001b[0;32min\u001b[0m \u001b[0mzip\u001b[0m\u001b[0;34m(\u001b[0m\u001b[0mxs\u001b[0m\u001b[0;34m,\u001b[0m \u001b[0mys\u001b[0m\u001b[0;34m)\u001b[0m\u001b[0;34m]\u001b[0m\u001b[0;34m\u001b[0m\u001b[0;34m\u001b[0m\u001b[0m\n",
      "\u001b[0;31mAssertionError\u001b[0m: Nope"
     ]
    }
   ],
   "source": [
    "print(add_lists([1, 2], [1, 2, 3]))  # Should throw AssertionError"
   ]
  },
  {
   "cell_type": "markdown",
   "metadata": {},
   "source": [
    "### Exercise 3"
   ]
  },
  {
   "cell_type": "markdown",
   "metadata": {},
   "source": [
    "Write a function that takes a string as input and counts how many times each word occurs.\n",
    "Input is a string and output is a dictionary with the words as keys and the counts as values\n",
    "\n",
    "Hint: Use .lower() and .split(), .strip()"
   ]
  },
  {
   "cell_type": "markdown",
   "metadata": {},
   "source": [
    "Insert code in the cell below:"
   ]
  },
  {
   "cell_type": "code",
   "execution_count": 78,
   "metadata": {},
   "outputs": [],
   "source": [
    "def strip_punctuation(s):\n",
    "    s = ' '.join(s.split('\\n'))\n",
    "    return ''.join(c for c in s if c not in '?-.,:;')\n",
    "    \n",
    "\n",
    "def wordcount(s):\n",
    "    s = strip_punctuation(s)\n",
    "    print(s)\n",
    "    my_dict = {}\n",
    "    for word in s.split():\n",
    "        if word in my_dict:\n",
    "             my_dict[word] += 1;\n",
    "        else:\n",
    "             my_dict[word] = 1;\n",
    "\n",
    "    return my_dict\n",
    "\n",
    "# def wordcount(s):\n",
    "#     s = strip_punctuation(s)\n",
    "    \n",
    "#     raise NotImplementedError"
   ]
  },
  {
   "cell_type": "code",
   "execution_count": 79,
   "metadata": {},
   "outputs": [
    {
     "name": "stdout",
     "output_type": "stream",
     "text": [
      " 'Tis sweet and commendable in your nature Hamlet To give these mourning duties to your father But you must know your father lost a father That father lost lost his and the survivor bound In filial obligation for some term To do obsequious sorrow But to persevere In obstinate condolement is a course Of impious stubbornness 'Tis unmanly grief It shows a will most incorrect to heaven A heart unfortified a mind impatient An understanding simple and unschool'd For what we know must be and is as common As any the most vulgar thing to sense Why should we in our peevish opposition Take it to heart Fie 'tis a fault to heaven A fault against the dead a fault to nature To reason most absurd whose common theme Is death of fathers and who still hath cried From the first corse till he that died today This must be so We pray you throw to earth This unprevailing woe and think of us As of a father for let the world take note You are the most immediate to our throne And with no less nobility of love Than that which dearest father bears his son Do I impart toward you For your intent In going back to school in Wittenberg It is most retrograde to our desire And we beseech you bend you to remain Here in the cheer and comfort of our eye Our chiefest courtier cousin and our son \n",
      "{\"'Tis\": 2,\n",
      " \"'tis\": 1,\n",
      " 'A': 2,\n",
      " 'An': 1,\n",
      " 'And': 2,\n",
      " 'As': 2,\n",
      " 'But': 2,\n",
      " 'Do': 1,\n",
      " 'Fie': 1,\n",
      " 'For': 2,\n",
      " 'From': 1,\n",
      " 'Hamlet': 1,\n",
      " 'Here': 1,\n",
      " 'I': 1,\n",
      " 'In': 3,\n",
      " 'Is': 1,\n",
      " 'It': 2,\n",
      " 'Of': 1,\n",
      " 'Our': 1,\n",
      " 'Take': 1,\n",
      " 'Than': 1,\n",
      " 'That': 1,\n",
      " 'This': 2,\n",
      " 'To': 3,\n",
      " 'We': 1,\n",
      " 'Why': 1,\n",
      " 'Wittenberg': 1,\n",
      " 'You': 1,\n",
      " 'a': 7,\n",
      " 'absurd': 1,\n",
      " 'against': 1,\n",
      " 'and': 8,\n",
      " 'any': 1,\n",
      " 'are': 1,\n",
      " 'as': 1,\n",
      " 'back': 1,\n",
      " 'be': 2,\n",
      " 'bears': 1,\n",
      " 'bend': 1,\n",
      " 'beseech': 1,\n",
      " 'bound': 1,\n",
      " 'cheer': 1,\n",
      " 'chiefest': 1,\n",
      " 'comfort': 1,\n",
      " 'commendable': 1,\n",
      " 'common': 2,\n",
      " 'condolement': 1,\n",
      " 'corse': 1,\n",
      " 'course': 1,\n",
      " 'courtier': 1,\n",
      " 'cousin': 1,\n",
      " 'cried': 1,\n",
      " 'dead': 1,\n",
      " 'dearest': 1,\n",
      " 'death': 1,\n",
      " 'desire': 1,\n",
      " 'died': 1,\n",
      " 'do': 1,\n",
      " 'duties': 1,\n",
      " 'earth': 1,\n",
      " 'eye': 1,\n",
      " 'father': 6,\n",
      " 'fathers': 1,\n",
      " 'fault': 3,\n",
      " 'filial': 1,\n",
      " 'first': 1,\n",
      " 'for': 2,\n",
      " 'give': 1,\n",
      " 'going': 1,\n",
      " 'grief': 1,\n",
      " 'hath': 1,\n",
      " 'he': 1,\n",
      " 'heart': 2,\n",
      " 'heaven': 2,\n",
      " 'his': 2,\n",
      " 'immediate': 1,\n",
      " 'impart': 1,\n",
      " 'impatient': 1,\n",
      " 'impious': 1,\n",
      " 'in': 4,\n",
      " 'incorrect': 1,\n",
      " 'intent': 1,\n",
      " 'is': 3,\n",
      " 'it': 1,\n",
      " 'know': 2,\n",
      " 'less': 1,\n",
      " 'let': 1,\n",
      " 'lost': 3,\n",
      " 'love': 1,\n",
      " 'mind': 1,\n",
      " 'most': 5,\n",
      " 'mourning': 1,\n",
      " 'must': 3,\n",
      " 'nature': 2,\n",
      " 'no': 1,\n",
      " 'nobility': 1,\n",
      " 'note': 1,\n",
      " 'obligation': 1,\n",
      " 'obsequious': 1,\n",
      " 'obstinate': 1,\n",
      " 'of': 5,\n",
      " 'opposition': 1,\n",
      " 'our': 5,\n",
      " 'peevish': 1,\n",
      " 'persevere': 1,\n",
      " 'pray': 1,\n",
      " 'reason': 1,\n",
      " 'remain': 1,\n",
      " 'retrograde': 1,\n",
      " 'school': 1,\n",
      " 'sense': 1,\n",
      " 'should': 1,\n",
      " 'shows': 1,\n",
      " 'simple': 1,\n",
      " 'so': 1,\n",
      " 'some': 1,\n",
      " 'son': 2,\n",
      " 'sorrow': 1,\n",
      " 'still': 1,\n",
      " 'stubbornness': 1,\n",
      " 'survivor': 1,\n",
      " 'sweet': 1,\n",
      " 'take': 1,\n",
      " 'term': 1,\n",
      " 'that': 2,\n",
      " 'the': 7,\n",
      " 'theme': 1,\n",
      " 'these': 1,\n",
      " 'thing': 1,\n",
      " 'think': 1,\n",
      " 'throne': 1,\n",
      " 'throw': 1,\n",
      " 'till': 1,\n",
      " 'to': 12,\n",
      " 'today': 1,\n",
      " 'toward': 1,\n",
      " 'understanding': 1,\n",
      " 'unfortified': 1,\n",
      " 'unmanly': 1,\n",
      " 'unprevailing': 1,\n",
      " \"unschool'd\": 1,\n",
      " 'us': 1,\n",
      " 'vulgar': 1,\n",
      " 'we': 3,\n",
      " 'what': 1,\n",
      " 'which': 1,\n",
      " 'who': 1,\n",
      " 'whose': 1,\n",
      " 'will': 1,\n",
      " 'with': 1,\n",
      " 'woe': 1,\n",
      " 'world': 1,\n",
      " 'you': 5,\n",
      " 'your': 4}\n"
     ]
    }
   ],
   "source": [
    "text = \"\"\"\n",
    "'Tis sweet and commendable in your nature, Hamlet,\n",
    "To give these mourning duties to your father;\n",
    "But you must know, your father lost a father,\n",
    "That father lost, lost his, and the survivor bound\n",
    "In filial obligation, for some term\n",
    "To do obsequious sorrow. But to persevere\n",
    "In obstinate condolement is a course\n",
    "Of impious stubbornness. 'Tis unmanly grief,\n",
    "It shows a will most incorrect to heaven,\n",
    "A heart unfortified, a mind impatient,\n",
    "An understanding simple and unschool'd;\n",
    "For what we know must be, and is as common\n",
    "As any the most vulgar thing to sense,\n",
    "Why should we in our peevish opposition\n",
    "Take it to heart? Fie, 'tis a fault to heaven,\n",
    "A fault against the dead, a fault to nature,\n",
    "To reason most absurd, whose common theme\n",
    "Is death of fathers, and who still hath cried,\n",
    "From the first corse till he that died today,\n",
    "This must be so. We pray you throw to earth\n",
    "This unprevailing woe, and think of us\n",
    "As of a father; for let the world take note\n",
    "You are the most immediate to our throne,\n",
    "And with no less nobility of love\n",
    "Than that which dearest father bears his son\n",
    "Do I impart toward you. For your intent\n",
    "In going back to school in Wittenberg,\n",
    "It is most retrograde to our desire:\n",
    "And we beseech you bend you to remain\n",
    "Here in the cheer and comfort of our eye,\n",
    "Our chiefest courtier, cousin, and our son.\n",
    "\"\"\"\n",
    "\n",
    "import pprint\n",
    "\n",
    "pprint.pprint(wordcount(text))"
   ]
  },
  {
   "cell_type": "markdown",
   "metadata": {},
   "source": [
    "## Further Reading\n",
    "\n",
    "1. https://docs.python.org/3/tutorial/  \n",
    "2. Learn Python the Hard Way (book)"
   ]
  }
 ],
 "metadata": {
  "kernelspec": {
   "display_name": "Python 3 (ipykernel)",
   "language": "python",
   "name": "python3"
  },
  "language_info": {
   "codemirror_mode": {
    "name": "ipython",
    "version": 3
   },
   "file_extension": ".py",
   "mimetype": "text/x-python",
   "name": "python",
   "nbconvert_exporter": "python",
   "pygments_lexer": "ipython3",
   "version": "3.8.10"
  }
 },
 "nbformat": 4,
 "nbformat_minor": 2
}
